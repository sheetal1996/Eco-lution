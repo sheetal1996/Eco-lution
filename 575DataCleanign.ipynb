{
  "nbformat": 4,
  "nbformat_minor": 0,
  "metadata": {
    "colab": {
      "name": "575DataCleanign.ipynb",
      "provenance": [],
      "authorship_tag": "ABX9TyN7y/RyCDBjBL8mxxukjKOK",
      "include_colab_link": true
    },
    "kernelspec": {
      "name": "python3",
      "display_name": "Python 3"
    },
    "language_info": {
      "name": "python"
    }
  },
  "cells": [
    {
      "cell_type": "markdown",
      "metadata": {
        "id": "view-in-github",
        "colab_type": "text"
      },
      "source": [
        "<a href=\"https://colab.research.google.com/github/sheetal1996/Eco-lution/blob/main/575DataCleanign.ipynb\" target=\"_parent\"><img src=\"https://colab.research.google.com/assets/colab-badge.svg\" alt=\"Open In Colab\"/></a>"
      ]
    },
    {
      "cell_type": "code",
      "execution_count": null,
      "metadata": {
        "id": "Qtn5GLAcoloU"
      },
      "outputs": [],
      "source": [
        "import numpy as np\n",
        "import pandas as pd\n",
        "import itertools\n",
        "import seaborn as sns\n",
        "import random\n",
        "from matplotlib import pyplot as plt\n",
        "\n",
        "import warnings\n",
        "warnings.filterwarnings('ignore')"
      ]
    },
    {
      "cell_type": "code",
      "source": [
        "#https://www.geeksforgeeks.org/ways-to-import-csv-files-in-google-colab/\n",
        "from google.colab import files\n",
        " \n",
        " \n",
        "uploaded = files.upload()"
      ],
      "metadata": {
        "colab": {
          "resources": {
            "http://localhost:8080/nbextensions/google.colab/files.js": {
              "data": "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",
              "ok": true,
              "headers": [
                [
                  "content-type",
                  "application/javascript"
                ]
              ],
              "status": 200,
              "status_text": ""
            }
          },
          "base_uri": "https://localhost:8080/",
          "height": 74
        },
        "id": "sf4JtFyaowk1",
        "outputId": "9be13c9b-bcdb-4e4a-c135-4ac19bd0c6e7"
      },
      "execution_count": 1,
      "outputs": [
        {
          "output_type": "display_data",
          "data": {
            "text/plain": [
              "<IPython.core.display.HTML object>"
            ],
            "text/html": [
              "\n",
              "     <input type=\"file\" id=\"files-a5d145af-2f92-42d6-9871-207f6fae6e99\" name=\"files[]\" multiple disabled\n",
              "        style=\"border:none\" />\n",
              "     <output id=\"result-a5d145af-2f92-42d6-9871-207f6fae6e99\">\n",
              "      Upload widget is only available when the cell has been executed in the\n",
              "      current browser session. Please rerun this cell to enable.\n",
              "      </output>\n",
              "      <script src=\"/nbextensions/google.colab/files.js\"></script> "
            ]
          },
          "metadata": {}
        },
        {
          "output_type": "stream",
          "name": "stdout",
          "text": [
            "Saving owid-co2-data.csv to owid-co2-data.csv\n"
          ]
        }
      ]
    },
    {
      "cell_type": "code",
      "source": [
        "import pandas as pd\n",
        "import io\n",
        " \n",
        "df = pd.read_csv(io.BytesIO(uploaded['owid-co2-data.csv']))\n",
        "print(df. columns) "
      ],
      "metadata": {
        "colab": {
          "base_uri": "https://localhost:8080/"
        },
        "id": "Y0fisrCUpn0Z",
        "outputId": "148ca4f2-9437-460a-e671-ce4d228f32c9"
      },
      "execution_count": 3,
      "outputs": [
        {
          "output_type": "stream",
          "name": "stdout",
          "text": [
            "Index(['iso_code', 'country', 'year', 'co2', 'co2_per_capita', 'trade_co2',\n",
            "       'cement_co2', 'cement_co2_per_capita', 'coal_co2',\n",
            "       'coal_co2_per_capita', 'flaring_co2', 'flaring_co2_per_capita',\n",
            "       'gas_co2', 'gas_co2_per_capita', 'oil_co2', 'oil_co2_per_capita',\n",
            "       'other_industry_co2', 'other_co2_per_capita', 'co2_growth_prct',\n",
            "       'co2_growth_abs', 'co2_per_gdp', 'co2_per_unit_energy',\n",
            "       'consumption_co2', 'consumption_co2_per_capita',\n",
            "       'consumption_co2_per_gdp', 'cumulative_co2', 'cumulative_cement_co2',\n",
            "       'cumulative_coal_co2', 'cumulative_flaring_co2', 'cumulative_gas_co2',\n",
            "       'cumulative_oil_co2', 'cumulative_other_co2', 'trade_co2_share',\n",
            "       'share_global_co2', 'share_global_cement_co2', 'share_global_coal_co2',\n",
            "       'share_global_flaring_co2', 'share_global_gas_co2',\n",
            "       'share_global_oil_co2', 'share_global_other_co2',\n",
            "       'share_global_cumulative_co2', 'share_global_cumulative_cement_co2',\n",
            "       'share_global_cumulative_coal_co2',\n",
            "       'share_global_cumulative_flaring_co2',\n",
            "       'share_global_cumulative_gas_co2', 'share_global_cumulative_oil_co2',\n",
            "       'share_global_cumulative_other_co2', 'total_ghg', 'ghg_per_capita',\n",
            "       'total_ghg_excluding_lucf', 'ghg_excluding_lucf_per_capita', 'methane',\n",
            "       'methane_per_capita', 'nitrous_oxide', 'nitrous_oxide_per_capita',\n",
            "       'population', 'gdp', 'primary_energy_consumption', 'energy_per_capita',\n",
            "       'energy_per_gdp'],\n",
            "      dtype='object')\n"
          ]
        }
      ]
    },
    {
      "cell_type": "code",
      "source": [
        "df.shape"
      ],
      "metadata": {
        "id": "RVl9WW9vspSS"
      },
      "execution_count": null,
      "outputs": []
    },
    {
      "cell_type": "code",
      "source": [
        "#Let us first find out the columns which have atleast 50% of non-null row\n",
        "df.columns[df.notnull().mean() >= 0.5]\n",
        "\n"
      ],
      "metadata": {
        "colab": {
          "base_uri": "https://localhost:8080/"
        },
        "id": "ZmoyX1MMp3Gt",
        "outputId": "e20eea98-bdad-4761-e41c-8bd72d6b8c32"
      },
      "execution_count": 5,
      "outputs": [
        {
          "output_type": "execute_result",
          "data": {
            "text/plain": [
              "Index(['iso_code', 'country', 'year', 'co2', 'co2_per_capita', 'coal_co2',\n",
              "       'coal_co2_per_capita', 'oil_co2', 'oil_co2_per_capita',\n",
              "       'co2_growth_prct', 'co2_growth_abs', 'co2_per_gdp', 'cumulative_co2',\n",
              "       'cumulative_coal_co2', 'cumulative_oil_co2', 'share_global_co2',\n",
              "       'share_global_coal_co2', 'share_global_oil_co2',\n",
              "       'share_global_cumulative_co2', 'share_global_cumulative_coal_co2',\n",
              "       'share_global_cumulative_oil_co2', 'population', 'gdp'],\n",
              "      dtype='object')"
            ]
          },
          "metadata": {},
          "execution_count": 5
        }
      ]
    },
    {
      "cell_type": "code",
      "source": [
        "#Since we need to remove the other columns with less than 50% of non-null rows, we use the 'drop' function\n",
        "#we assign the resulting dataframe to a new variable name 'df_dropcol'\n",
        "df_dropcol = df.drop(df.columns[df.notnull().mean() < 0.5],axis=1)\n",
        "\n",
        "#Now, if we see again the information about this new df_dropcol dataframe (by using the info function), \n",
        "#we can see that we still have null values. So, in order to remove these null values, we can use dropna() function on df_dropcol.\n",
        "\n",
        "df_dropcol.dropna(inplace=True)\n",
        "df_dropcol.shape"
      ],
      "metadata": {
        "colab": {
          "base_uri": "https://localhost:8080/"
        },
        "id": "iIqEczuCsyxd",
        "outputId": "f5661ada-b13d-4c03-88b1-9487bbd3b1d2"
      },
      "execution_count": 22,
      "outputs": [
        {
          "output_type": "execute_result",
          "data": {
            "text/plain": [
              "(8880, 23)"
            ]
          },
          "metadata": {},
          "execution_count": 22
        }
      ]
    },
    {
      "cell_type": "markdown",
      "source": [
        "> Step 1: We have to find a way to fill the null values.\n",
        "If we are doing this, we are losing 2020 data as well. Even if we are directly removing the null values using dropna(), we are losing even higher data.\n"
      ],
      "metadata": {
        "id": "eby0-sbaxWRO"
      }
    },
    {
      "cell_type": "code",
      "source": [
        "df_dropcol"
      ],
      "metadata": {
        "colab": {
          "base_uri": "https://localhost:8080/",
          "height": 488
        },
        "id": "_o7UkpfhwAzU",
        "outputId": "e5a27212-57c5-4a9d-b857-7a09182bb49c"
      },
      "execution_count": 18,
      "outputs": [
        {
          "output_type": "execute_result",
          "data": {
            "text/plain": [
              "      iso_code      country  year     co2  co2_per_capita  coal_co2  \\\n",
              "1          AFG  Afghanistan  1950   0.084           0.011     0.021   \n",
              "2          AFG  Afghanistan  1951   0.092           0.012     0.026   \n",
              "3          AFG  Afghanistan  1952   0.092           0.012     0.032   \n",
              "4          AFG  Afghanistan  1953   0.106           0.013     0.038   \n",
              "5          AFG  Afghanistan  1954   0.106           0.013     0.043   \n",
              "...        ...          ...   ...     ...             ...       ...   \n",
              "25982      ZWE     Zimbabwe  2014  11.906           0.876     7.691   \n",
              "25983      ZWE     Zimbabwe  2015  12.226           0.885     8.033   \n",
              "25984      ZWE     Zimbabwe  2016  10.738           0.765     6.959   \n",
              "25985      ZWE     Zimbabwe  2017   9.582           0.673     5.665   \n",
              "25986      ZWE     Zimbabwe  2018  11.854           0.821     7.101   \n",
              "\n",
              "       coal_co2_per_capita  oil_co2  oil_co2_per_capita  co2_growth_prct  ...  \\\n",
              "1                    0.003    0.063               0.008           475.00  ...   \n",
              "2                    0.003    0.066               0.008             8.70  ...   \n",
              "3                    0.004    0.060               0.008             0.00  ...   \n",
              "4                    0.005    0.068               0.008            16.00  ...   \n",
              "5                    0.005    0.064               0.008             0.00  ...   \n",
              "...                    ...      ...                 ...              ...  ...   \n",
              "25982                0.566    3.719               0.274             0.59  ...   \n",
              "25983                0.582    3.608               0.261             2.69  ...   \n",
              "25984                0.496    3.139               0.224           -12.17  ...   \n",
              "25985                0.398    3.239               0.228           -10.77  ...   \n",
              "25986                0.492    4.056               0.281            23.72  ...   \n",
              "\n",
              "       cumulative_coal_co2  cumulative_oil_co2  share_global_co2  \\\n",
              "1                    0.036               0.063              0.00   \n",
              "2                    0.061               0.129              0.00   \n",
              "3                    0.093               0.189              0.00   \n",
              "4                    0.131               0.257              0.00   \n",
              "5                    0.174               0.321              0.00   \n",
              "...                    ...                 ...               ...   \n",
              "25982              570.112             126.428              0.03   \n",
              "25983              578.145             130.036              0.03   \n",
              "25984              585.104             133.175              0.03   \n",
              "25985              590.768             136.414              0.03   \n",
              "25986              597.869             140.470              0.03   \n",
              "\n",
              "       share_global_coal_co2  share_global_oil_co2  \\\n",
              "1                       0.00                  0.00   \n",
              "2                       0.00                  0.00   \n",
              "3                       0.00                  0.00   \n",
              "4                       0.00                  0.00   \n",
              "5                       0.00                  0.00   \n",
              "...                      ...                   ...   \n",
              "25982                   0.05                  0.03   \n",
              "25983                   0.05                  0.03   \n",
              "25984                   0.05                  0.03   \n",
              "25985                   0.04                  0.03   \n",
              "25986                   0.05                  0.03   \n",
              "\n",
              "       share_global_cumulative_co2  share_global_cumulative_coal_co2  \\\n",
              "1                             0.00                              0.00   \n",
              "2                             0.00                              0.00   \n",
              "3                             0.00                              0.00   \n",
              "4                             0.00                              0.00   \n",
              "5                             0.00                              0.00   \n",
              "...                            ...                               ...   \n",
              "25982                         0.05                              0.08   \n",
              "25983                         0.05                              0.08   \n",
              "25984                         0.05                              0.08   \n",
              "25985                         0.05                              0.08   \n",
              "25986                         0.05                              0.08   \n",
              "\n",
              "       share_global_cumulative_oil_co2  population           gdp  \n",
              "1                                 0.00   7752117.0  9.421400e+09  \n",
              "2                                 0.00   7840151.0  9.692280e+09  \n",
              "3                                 0.00   7935996.0  1.001733e+10  \n",
              "4                                 0.00   8039684.0  1.063052e+10  \n",
              "5                                 0.00   8151316.0  1.086636e+10  \n",
              "...                                ...         ...           ...  \n",
              "25982                             0.02  13586710.0  2.122250e+10  \n",
              "25983                             0.02  13814642.0  2.102745e+10  \n",
              "25984                             0.02  14030338.0  2.096179e+10  \n",
              "25985                             0.02  14236599.0  2.194784e+10  \n",
              "25986                             0.02  14438812.0  2.271535e+10  \n",
              "\n",
              "[8880 rows x 23 columns]"
            ],
            "text/html": [
              "\n",
              "  <div id=\"df-5b2d1a0a-9924-42d8-8174-d7813f166701\">\n",
              "    <div class=\"colab-df-container\">\n",
              "      <div>\n",
              "<style scoped>\n",
              "    .dataframe tbody tr th:only-of-type {\n",
              "        vertical-align: middle;\n",
              "    }\n",
              "\n",
              "    .dataframe tbody tr th {\n",
              "        vertical-align: top;\n",
              "    }\n",
              "\n",
              "    .dataframe thead th {\n",
              "        text-align: right;\n",
              "    }\n",
              "</style>\n",
              "<table border=\"1\" class=\"dataframe\">\n",
              "  <thead>\n",
              "    <tr style=\"text-align: right;\">\n",
              "      <th></th>\n",
              "      <th>iso_code</th>\n",
              "      <th>country</th>\n",
              "      <th>year</th>\n",
              "      <th>co2</th>\n",
              "      <th>co2_per_capita</th>\n",
              "      <th>coal_co2</th>\n",
              "      <th>coal_co2_per_capita</th>\n",
              "      <th>oil_co2</th>\n",
              "      <th>oil_co2_per_capita</th>\n",
              "      <th>co2_growth_prct</th>\n",
              "      <th>...</th>\n",
              "      <th>cumulative_coal_co2</th>\n",
              "      <th>cumulative_oil_co2</th>\n",
              "      <th>share_global_co2</th>\n",
              "      <th>share_global_coal_co2</th>\n",
              "      <th>share_global_oil_co2</th>\n",
              "      <th>share_global_cumulative_co2</th>\n",
              "      <th>share_global_cumulative_coal_co2</th>\n",
              "      <th>share_global_cumulative_oil_co2</th>\n",
              "      <th>population</th>\n",
              "      <th>gdp</th>\n",
              "    </tr>\n",
              "  </thead>\n",
              "  <tbody>\n",
              "    <tr>\n",
              "      <th>1</th>\n",
              "      <td>AFG</td>\n",
              "      <td>Afghanistan</td>\n",
              "      <td>1950</td>\n",
              "      <td>0.084</td>\n",
              "      <td>0.011</td>\n",
              "      <td>0.021</td>\n",
              "      <td>0.003</td>\n",
              "      <td>0.063</td>\n",
              "      <td>0.008</td>\n",
              "      <td>475.00</td>\n",
              "      <td>...</td>\n",
              "      <td>0.036</td>\n",
              "      <td>0.063</td>\n",
              "      <td>0.00</td>\n",
              "      <td>0.00</td>\n",
              "      <td>0.00</td>\n",
              "      <td>0.00</td>\n",
              "      <td>0.00</td>\n",
              "      <td>0.00</td>\n",
              "      <td>7752117.0</td>\n",
              "      <td>9.421400e+09</td>\n",
              "    </tr>\n",
              "    <tr>\n",
              "      <th>2</th>\n",
              "      <td>AFG</td>\n",
              "      <td>Afghanistan</td>\n",
              "      <td>1951</td>\n",
              "      <td>0.092</td>\n",
              "      <td>0.012</td>\n",
              "      <td>0.026</td>\n",
              "      <td>0.003</td>\n",
              "      <td>0.066</td>\n",
              "      <td>0.008</td>\n",
              "      <td>8.70</td>\n",
              "      <td>...</td>\n",
              "      <td>0.061</td>\n",
              "      <td>0.129</td>\n",
              "      <td>0.00</td>\n",
              "      <td>0.00</td>\n",
              "      <td>0.00</td>\n",
              "      <td>0.00</td>\n",
              "      <td>0.00</td>\n",
              "      <td>0.00</td>\n",
              "      <td>7840151.0</td>\n",
              "      <td>9.692280e+09</td>\n",
              "    </tr>\n",
              "    <tr>\n",
              "      <th>3</th>\n",
              "      <td>AFG</td>\n",
              "      <td>Afghanistan</td>\n",
              "      <td>1952</td>\n",
              "      <td>0.092</td>\n",
              "      <td>0.012</td>\n",
              "      <td>0.032</td>\n",
              "      <td>0.004</td>\n",
              "      <td>0.060</td>\n",
              "      <td>0.008</td>\n",
              "      <td>0.00</td>\n",
              "      <td>...</td>\n",
              "      <td>0.093</td>\n",
              "      <td>0.189</td>\n",
              "      <td>0.00</td>\n",
              "      <td>0.00</td>\n",
              "      <td>0.00</td>\n",
              "      <td>0.00</td>\n",
              "      <td>0.00</td>\n",
              "      <td>0.00</td>\n",
              "      <td>7935996.0</td>\n",
              "      <td>1.001733e+10</td>\n",
              "    </tr>\n",
              "    <tr>\n",
              "      <th>4</th>\n",
              "      <td>AFG</td>\n",
              "      <td>Afghanistan</td>\n",
              "      <td>1953</td>\n",
              "      <td>0.106</td>\n",
              "      <td>0.013</td>\n",
              "      <td>0.038</td>\n",
              "      <td>0.005</td>\n",
              "      <td>0.068</td>\n",
              "      <td>0.008</td>\n",
              "      <td>16.00</td>\n",
              "      <td>...</td>\n",
              "      <td>0.131</td>\n",
              "      <td>0.257</td>\n",
              "      <td>0.00</td>\n",
              "      <td>0.00</td>\n",
              "      <td>0.00</td>\n",
              "      <td>0.00</td>\n",
              "      <td>0.00</td>\n",
              "      <td>0.00</td>\n",
              "      <td>8039684.0</td>\n",
              "      <td>1.063052e+10</td>\n",
              "    </tr>\n",
              "    <tr>\n",
              "      <th>5</th>\n",
              "      <td>AFG</td>\n",
              "      <td>Afghanistan</td>\n",
              "      <td>1954</td>\n",
              "      <td>0.106</td>\n",
              "      <td>0.013</td>\n",
              "      <td>0.043</td>\n",
              "      <td>0.005</td>\n",
              "      <td>0.064</td>\n",
              "      <td>0.008</td>\n",
              "      <td>0.00</td>\n",
              "      <td>...</td>\n",
              "      <td>0.174</td>\n",
              "      <td>0.321</td>\n",
              "      <td>0.00</td>\n",
              "      <td>0.00</td>\n",
              "      <td>0.00</td>\n",
              "      <td>0.00</td>\n",
              "      <td>0.00</td>\n",
              "      <td>0.00</td>\n",
              "      <td>8151316.0</td>\n",
              "      <td>1.086636e+10</td>\n",
              "    </tr>\n",
              "    <tr>\n",
              "      <th>...</th>\n",
              "      <td>...</td>\n",
              "      <td>...</td>\n",
              "      <td>...</td>\n",
              "      <td>...</td>\n",
              "      <td>...</td>\n",
              "      <td>...</td>\n",
              "      <td>...</td>\n",
              "      <td>...</td>\n",
              "      <td>...</td>\n",
              "      <td>...</td>\n",
              "      <td>...</td>\n",
              "      <td>...</td>\n",
              "      <td>...</td>\n",
              "      <td>...</td>\n",
              "      <td>...</td>\n",
              "      <td>...</td>\n",
              "      <td>...</td>\n",
              "      <td>...</td>\n",
              "      <td>...</td>\n",
              "      <td>...</td>\n",
              "      <td>...</td>\n",
              "    </tr>\n",
              "    <tr>\n",
              "      <th>25982</th>\n",
              "      <td>ZWE</td>\n",
              "      <td>Zimbabwe</td>\n",
              "      <td>2014</td>\n",
              "      <td>11.906</td>\n",
              "      <td>0.876</td>\n",
              "      <td>7.691</td>\n",
              "      <td>0.566</td>\n",
              "      <td>3.719</td>\n",
              "      <td>0.274</td>\n",
              "      <td>0.59</td>\n",
              "      <td>...</td>\n",
              "      <td>570.112</td>\n",
              "      <td>126.428</td>\n",
              "      <td>0.03</td>\n",
              "      <td>0.05</td>\n",
              "      <td>0.03</td>\n",
              "      <td>0.05</td>\n",
              "      <td>0.08</td>\n",
              "      <td>0.02</td>\n",
              "      <td>13586710.0</td>\n",
              "      <td>2.122250e+10</td>\n",
              "    </tr>\n",
              "    <tr>\n",
              "      <th>25983</th>\n",
              "      <td>ZWE</td>\n",
              "      <td>Zimbabwe</td>\n",
              "      <td>2015</td>\n",
              "      <td>12.226</td>\n",
              "      <td>0.885</td>\n",
              "      <td>8.033</td>\n",
              "      <td>0.582</td>\n",
              "      <td>3.608</td>\n",
              "      <td>0.261</td>\n",
              "      <td>2.69</td>\n",
              "      <td>...</td>\n",
              "      <td>578.145</td>\n",
              "      <td>130.036</td>\n",
              "      <td>0.03</td>\n",
              "      <td>0.05</td>\n",
              "      <td>0.03</td>\n",
              "      <td>0.05</td>\n",
              "      <td>0.08</td>\n",
              "      <td>0.02</td>\n",
              "      <td>13814642.0</td>\n",
              "      <td>2.102745e+10</td>\n",
              "    </tr>\n",
              "    <tr>\n",
              "      <th>25984</th>\n",
              "      <td>ZWE</td>\n",
              "      <td>Zimbabwe</td>\n",
              "      <td>2016</td>\n",
              "      <td>10.738</td>\n",
              "      <td>0.765</td>\n",
              "      <td>6.959</td>\n",
              "      <td>0.496</td>\n",
              "      <td>3.139</td>\n",
              "      <td>0.224</td>\n",
              "      <td>-12.17</td>\n",
              "      <td>...</td>\n",
              "      <td>585.104</td>\n",
              "      <td>133.175</td>\n",
              "      <td>0.03</td>\n",
              "      <td>0.05</td>\n",
              "      <td>0.03</td>\n",
              "      <td>0.05</td>\n",
              "      <td>0.08</td>\n",
              "      <td>0.02</td>\n",
              "      <td>14030338.0</td>\n",
              "      <td>2.096179e+10</td>\n",
              "    </tr>\n",
              "    <tr>\n",
              "      <th>25985</th>\n",
              "      <td>ZWE</td>\n",
              "      <td>Zimbabwe</td>\n",
              "      <td>2017</td>\n",
              "      <td>9.582</td>\n",
              "      <td>0.673</td>\n",
              "      <td>5.665</td>\n",
              "      <td>0.398</td>\n",
              "      <td>3.239</td>\n",
              "      <td>0.228</td>\n",
              "      <td>-10.77</td>\n",
              "      <td>...</td>\n",
              "      <td>590.768</td>\n",
              "      <td>136.414</td>\n",
              "      <td>0.03</td>\n",
              "      <td>0.04</td>\n",
              "      <td>0.03</td>\n",
              "      <td>0.05</td>\n",
              "      <td>0.08</td>\n",
              "      <td>0.02</td>\n",
              "      <td>14236599.0</td>\n",
              "      <td>2.194784e+10</td>\n",
              "    </tr>\n",
              "    <tr>\n",
              "      <th>25986</th>\n",
              "      <td>ZWE</td>\n",
              "      <td>Zimbabwe</td>\n",
              "      <td>2018</td>\n",
              "      <td>11.854</td>\n",
              "      <td>0.821</td>\n",
              "      <td>7.101</td>\n",
              "      <td>0.492</td>\n",
              "      <td>4.056</td>\n",
              "      <td>0.281</td>\n",
              "      <td>23.72</td>\n",
              "      <td>...</td>\n",
              "      <td>597.869</td>\n",
              "      <td>140.470</td>\n",
              "      <td>0.03</td>\n",
              "      <td>0.05</td>\n",
              "      <td>0.03</td>\n",
              "      <td>0.05</td>\n",
              "      <td>0.08</td>\n",
              "      <td>0.02</td>\n",
              "      <td>14438812.0</td>\n",
              "      <td>2.271535e+10</td>\n",
              "    </tr>\n",
              "  </tbody>\n",
              "</table>\n",
              "<p>8880 rows × 23 columns</p>\n",
              "</div>\n",
              "      <button class=\"colab-df-convert\" onclick=\"convertToInteractive('df-5b2d1a0a-9924-42d8-8174-d7813f166701')\"\n",
              "              title=\"Convert this dataframe to an interactive table.\"\n",
              "              style=\"display:none;\">\n",
              "        \n",
              "  <svg xmlns=\"http://www.w3.org/2000/svg\" height=\"24px\"viewBox=\"0 0 24 24\"\n",
              "       width=\"24px\">\n",
              "    <path d=\"M0 0h24v24H0V0z\" fill=\"none\"/>\n",
              "    <path d=\"M18.56 5.44l.94 2.06.94-2.06 2.06-.94-2.06-.94-.94-2.06-.94 2.06-2.06.94zm-11 1L8.5 8.5l.94-2.06 2.06-.94-2.06-.94L8.5 2.5l-.94 2.06-2.06.94zm10 10l.94 2.06.94-2.06 2.06-.94-2.06-.94-.94-2.06-.94 2.06-2.06.94z\"/><path d=\"M17.41 7.96l-1.37-1.37c-.4-.4-.92-.59-1.43-.59-.52 0-1.04.2-1.43.59L10.3 9.45l-7.72 7.72c-.78.78-.78 2.05 0 2.83L4 21.41c.39.39.9.59 1.41.59.51 0 1.02-.2 1.41-.59l7.78-7.78 2.81-2.81c.8-.78.8-2.07 0-2.86zM5.41 20L4 18.59l7.72-7.72 1.47 1.35L5.41 20z\"/>\n",
              "  </svg>\n",
              "      </button>\n",
              "      \n",
              "  <style>\n",
              "    .colab-df-container {\n",
              "      display:flex;\n",
              "      flex-wrap:wrap;\n",
              "      gap: 12px;\n",
              "    }\n",
              "\n",
              "    .colab-df-convert {\n",
              "      background-color: #E8F0FE;\n",
              "      border: none;\n",
              "      border-radius: 50%;\n",
              "      cursor: pointer;\n",
              "      display: none;\n",
              "      fill: #1967D2;\n",
              "      height: 32px;\n",
              "      padding: 0 0 0 0;\n",
              "      width: 32px;\n",
              "    }\n",
              "\n",
              "    .colab-df-convert:hover {\n",
              "      background-color: #E2EBFA;\n",
              "      box-shadow: 0px 1px 2px rgba(60, 64, 67, 0.3), 0px 1px 3px 1px rgba(60, 64, 67, 0.15);\n",
              "      fill: #174EA6;\n",
              "    }\n",
              "\n",
              "    [theme=dark] .colab-df-convert {\n",
              "      background-color: #3B4455;\n",
              "      fill: #D2E3FC;\n",
              "    }\n",
              "\n",
              "    [theme=dark] .colab-df-convert:hover {\n",
              "      background-color: #434B5C;\n",
              "      box-shadow: 0px 1px 3px 1px rgba(0, 0, 0, 0.15);\n",
              "      filter: drop-shadow(0px 1px 2px rgba(0, 0, 0, 0.3));\n",
              "      fill: #FFFFFF;\n",
              "    }\n",
              "  </style>\n",
              "\n",
              "      <script>\n",
              "        const buttonEl =\n",
              "          document.querySelector('#df-5b2d1a0a-9924-42d8-8174-d7813f166701 button.colab-df-convert');\n",
              "        buttonEl.style.display =\n",
              "          google.colab.kernel.accessAllowed ? 'block' : 'none';\n",
              "\n",
              "        async function convertToInteractive(key) {\n",
              "          const element = document.querySelector('#df-5b2d1a0a-9924-42d8-8174-d7813f166701');\n",
              "          const dataTable =\n",
              "            await google.colab.kernel.invokeFunction('convertToInteractive',\n",
              "                                                     [key], {});\n",
              "          if (!dataTable) return;\n",
              "\n",
              "          const docLinkHtml = 'Like what you see? Visit the ' +\n",
              "            '<a target=\"_blank\" href=https://colab.research.google.com/notebooks/data_table.ipynb>data table notebook</a>'\n",
              "            + ' to learn more about interactive tables.';\n",
              "          element.innerHTML = '';\n",
              "          dataTable['output_type'] = 'display_data';\n",
              "          await google.colab.output.renderOutput(dataTable, element);\n",
              "          const docLink = document.createElement('div');\n",
              "          docLink.innerHTML = docLinkHtml;\n",
              "          element.appendChild(docLink);\n",
              "        }\n",
              "      </script>\n",
              "    </div>\n",
              "  </div>\n",
              "  "
            ]
          },
          "metadata": {},
          "execution_count": 18
        }
      ]
    },
    {
      "cell_type": "code",
      "source": [
        "df_gdp_2018 = df_dropcol.loc[df_dropcol['year']==2020] # finds all the countries with data based on 201\n",
        "\n",
        "#df_gdp_top10 = df_gdp_2018.sort_values(by=['gdp'], ascending = False).head(10) #arranges the countries based on their GDP in 2020\n",
        "\n",
        "#print(df_gdp_2018['country']) # prints the top 10 countries with highest GDP8\n",
        "print(df_gdp_2018.to_markdown())"
      ],
      "metadata": {
        "colab": {
          "base_uri": "https://localhost:8080/"
        },
        "id": "niC7rBpBtssO",
        "outputId": "59354f78-60b4-4aec-e19c-a37ad5ca1607"
      },
      "execution_count": 17,
      "outputs": [
        {
          "output_type": "stream",
          "name": "stdout",
          "text": [
            "| iso_code   | country   | year   | co2   | co2_per_capita   | coal_co2   | coal_co2_per_capita   | oil_co2   | oil_co2_per_capita   | co2_growth_prct   | co2_growth_abs   | co2_per_gdp   | cumulative_co2   | cumulative_coal_co2   | cumulative_oil_co2   | share_global_co2   | share_global_coal_co2   | share_global_oil_co2   | share_global_cumulative_co2   | share_global_cumulative_coal_co2   | share_global_cumulative_oil_co2   | population   | gdp   |\n",
            "|------------|-----------|--------|-------|------------------|------------|-----------------------|-----------|----------------------|-------------------|------------------|---------------|------------------|-----------------------|----------------------|--------------------|-------------------------|------------------------|-------------------------------|------------------------------------|-----------------------------------|--------------|-------|\n"
          ]
        }
      ]
    },
    {
      "cell_type": "code",
      "source": [
        "df_nona = df.dropna()\n",
        "\n",
        "#Investigating the shape of 'df_nona'\n",
        "\n",
        "df_nona.shape\n",
        "\n",
        "#df_nona['year'].max() # This line of code will return the most recent year in the data set\n",
        "\n",
        "df_dropcol['year'].max()"
      ],
      "metadata": {
        "colab": {
          "base_uri": "https://localhost:8080/"
        },
        "id": "f7l1YMQ5x-qr",
        "outputId": "362f5922-d34c-405d-ecc2-bdbd6a1428bd"
      },
      "execution_count": 27,
      "outputs": [
        {
          "output_type": "execute_result",
          "data": {
            "text/plain": [
              "2018"
            ]
          },
          "metadata": {},
          "execution_count": 27
        }
      ]
    }
  ]
}